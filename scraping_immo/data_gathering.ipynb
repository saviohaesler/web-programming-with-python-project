{
 "cells": [
  {
   "cell_type": "markdown",
   "metadata": {},
   "source": [
    "# Web Scraper"
   ]
  },
  {
   "cell_type": "code",
   "execution_count": null,
   "metadata": {
    "ExecuteTime": {
     "end_time": "2025-04-07T11:31:11.105283Z",
     "start_time": "2025-04-07T11:29:16.685712Z"
    }
   },
   "outputs": [
    {
     "name": "stdout",
     "output_type": "stream",
     "text": [
      "Scraping https://www.immoscout24.ch/de/immobilien/mieten/ort-bern...\n",
      "Scraping https://www.immoscout24.ch/de/immobilien/mieten/ort-bern?pn=2...\n",
      "Scraping https://www.immoscout24.ch/de/immobilien/mieten/ort-bern?pn=3...\n",
      "Scraping https://www.immoscout24.ch/de/immobilien/mieten/ort-bern?pn=4...\n",
      "Scraping https://www.immoscout24.ch/de/immobilien/mieten/ort-bern?pn=5...\n",
      "Scraping https://www.immoscout24.ch/de/immobilien/mieten/ort-bern?pn=6...\n",
      "Scraping https://www.immoscout24.ch/de/immobilien/mieten/ort-bern?pn=7...\n",
      "Scraping https://www.immoscout24.ch/de/immobilien/mieten/ort-bern?pn=8...\n",
      "Scraping https://www.immoscout24.ch/de/immobilien/mieten/ort-bern?pn=9...\n",
      "Scraping https://www.immoscout24.ch/de/immobilien/mieten/ort-bern?pn=10...\n",
      "Scraping https://www.immoscout24.ch/de/immobilien/mieten/ort-bern?pn=11...\n"
     ]
    },
    {
     "ename": "KeyboardInterrupt",
     "evalue": "",
     "output_type": "error",
     "traceback": [
      "\u001b[31m---------------------------------------------------------------------------\u001b[39m",
      "\u001b[31mKeyboardInterrupt\u001b[39m                         Traceback (most recent call last)",
      "\u001b[36mCell\u001b[39m\u001b[36m \u001b[39m\u001b[32mIn[1]\u001b[39m\u001b[32m, line 76\u001b[39m\n\u001b[32m     73\u001b[39m     \u001b[38;5;28mprint\u001b[39m(\u001b[33mf\u001b[39m\u001b[33m\"\u001b[39m\u001b[33mSaved data to \u001b[39m\u001b[38;5;132;01m{\u001b[39;00mOUTPUT_FILE\u001b[38;5;132;01m}\u001b[39;00m\u001b[33m\"\u001b[39m)\n\u001b[32m     75\u001b[39m \u001b[38;5;28;01mif\u001b[39;00m \u001b[34m__name__\u001b[39m == \u001b[33m\"\u001b[39m\u001b[33m__main__\u001b[39m\u001b[33m\"\u001b[39m:\n\u001b[32m---> \u001b[39m\u001b[32m76\u001b[39m     scraped_data = \u001b[43mscrape_listings\u001b[49m\u001b[43m(\u001b[49m\u001b[43m)\u001b[49m\n\u001b[32m     77\u001b[39m     save_to_csv(scraped_data)\n",
      "\u001b[36mCell\u001b[39m\u001b[36m \u001b[39m\u001b[32mIn[1]\u001b[39m\u001b[32m, line 59\u001b[39m, in \u001b[36mscrape_listings\u001b[39m\u001b[34m()\u001b[39m\n\u001b[32m     56\u001b[39m             data.append([\u001b[38;5;28mid\u001b[39m, city, zip_code, rooms, space, rent])\n\u001b[32m     58\u001b[39m         url = get_next_page_url(soup)\n\u001b[32m---> \u001b[39m\u001b[32m59\u001b[39m         time.sleep(\u001b[32m10\u001b[39m)\n\u001b[32m     61\u001b[39m \u001b[38;5;28;01mreturn\u001b[39;00m data\n",
      "\u001b[31mKeyboardInterrupt\u001b[39m: "
     ]
    }
   ],
   "source": [
    "import requests\n",
    "import csv\n",
    "from bs4 import BeautifulSoup\n",
    "import time\n",
    "\n",
    "# Base URL format\n",
    "BASE_URL = \"https://www.immoscout24.ch/de/immobilien/mieten/ort-{}\"\n",
    "LOCATIONS = [\"bern\", \"zuerich\", \"interlaken\", \"genf\", \"aargau\", \"basel\", \"langenthal\", \"chur\", \"luzern\", \"st-gallen\", \"zug\", \"zermatt\", \"davos\", \"lausanne\", \"montreux\", \"neuchatel\", \"sion\", \"winterthur\", \"herzogenbuchsee\", \"basel\", \"burgdorf\"]\n",
    "\n",
    "CSS_SELECTOR = \".HgListingCard_altCard_kVJoS\"\n",
    "CSS_SELECTOR_DETAILS_DIV = \".HgListingRoomsLivingSpacePrice_roomsLivingSpacePrice_M6Ktp\"\n",
    "CSS_SELECTOR_ID = \".HgCardElevated_content_uir_2\"\n",
    "NEXT_PAGE_LABEL = \"Zur nächsten Seite\"\n",
    "\n",
    "# Output file\n",
    "OUTPUT_FILE = \"immoscout_listings_test.csv\"\n",
    "\n",
    "# Function to scrape listings\n",
    "def scrape_listings():\n",
    "    data = []\n",
    "\n",
    "    for location in LOCATIONS:\n",
    "\n",
    "        url = BASE_URL.format(location)\n",
    "\n",
    "        while url:\n",
    "            print(f\"Scraping {url}...\")\n",
    "            \n",
    "            response = requests.get(url, headers={\"User-Agent\": \"Mozilla/5.0\"})\n",
    "            if response.status_code != 200:\n",
    "                print(f\"Failed to fetch {url}\")\n",
    "                continue\n",
    "            \n",
    "            soup = BeautifulSoup(response.text, \"html.parser\")\n",
    "            listings = soup.select(CSS_SELECTOR)\n",
    "            \n",
    "            for listing in listings:\n",
    "                id = listing.select(CSS_SELECTOR_ID)[0]['href'].split('/')[-1]\n",
    "\n",
    "                details = listing.select(CSS_SELECTOR_DETAILS_DIV)[0].get_text().split(',')\n",
    "                if len(details) < 3:\n",
    "                    continue\n",
    "                rooms = details[0].split(' ')[0]\n",
    "                space = details[1].strip('m²').strip()\n",
    "                rent = details[2].strip(' CHF').replace('.–', '').replace('’', '')\n",
    "\n",
    "                address = listing.find('address').get_text().split(',')\n",
    "                zip_code = address[-1].strip().split(' ')[0]\n",
    "                city = \" \".join(address[-1].strip().split(' ')[1:])\n",
    "\n",
    "                if not rent or not space or not rooms or not city or not zip_code or rent == \"Preis auf Anfrage\":\n",
    "                    continue\n",
    "                \n",
    "                data.append([id, city, zip_code, rooms, space, rent])\n",
    "\n",
    "            url = get_next_page_url(soup)\n",
    "            time.sleep(10)\n",
    "\n",
    "    return data\n",
    "\n",
    "def get_next_page_url(soup):\n",
    "    next_page = soup.find(\"a\", {\"aria-label\": NEXT_PAGE_LABEL})\n",
    "    return f\"https://www.immoscout24.ch{next_page['href']}\" if next_page else None\n",
    "\n",
    "# Write to CSV\n",
    "def save_to_csv(data):\n",
    "    with open(OUTPUT_FILE, \"w\", newline=\"\", encoding=\"utf-8\") as file:\n",
    "        writer = csv.writer(file)\n",
    "        writer.writerow([\"id\", \"location\", \"plz\", \"rooms\", \"space\", \"price\"])\n",
    "        writer.writerows(data)\n",
    "    print(f\"Saved data to {OUTPUT_FILE}\")\n",
    "\n",
    "if __name__ == \"__main__\":\n",
    "    scraped_data = scrape_listings()\n",
    "    save_to_csv(scraped_data)"
   ]
  },
  {
   "cell_type": "markdown",
   "metadata": {},
   "source": [
    "# Data Dispatcher"
   ]
  },
  {
   "cell_type": "code",
   "execution_count": 1,
   "metadata": {
    "ExecuteTime": {
     "end_time": "2025-05-14T20:23:47.697631Z",
     "start_time": "2025-05-14T20:23:45.946354Z"
    }
   },
   "outputs": [],
   "source": [
    "import requests\n",
    "import csv\n",
    "import json\n",
    "\n",
    "# iter over entries in csv file\n",
    "\n",
    "with open('immoscout_listings.csv', newline='') as csvfile:\n",
    "\n",
    "    reader = csv.DictReader(csvfile)\n",
    "    apartments_list = list(reader)\n",
    "\n",
    "    url = 'http://65.108.84.170:3000/add_apartments'\n",
    "    response = requests.post(url, json=apartments_list)\n",
    "\n",
    "    if response.status_code != 200:\n",
    "        raise Exception(f\"Failed to send data to API: {response.text}\")"
   ]
  }
 ],
 "metadata": {
  "kernelspec": {
   "display_name": "venv",
   "language": "python",
   "name": "python3"
  },
  "language_info": {
   "codemirror_mode": {
    "name": "ipython",
    "version": 3
   },
   "file_extension": ".py",
   "mimetype": "text/x-python",
   "name": "python",
   "nbconvert_exporter": "python",
   "pygments_lexer": "ipython3",
   "version": "3.13.3"
  }
 },
 "nbformat": 4,
 "nbformat_minor": 2
}
