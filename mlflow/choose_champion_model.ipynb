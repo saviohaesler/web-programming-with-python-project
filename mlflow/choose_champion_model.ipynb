{
 "cells": [
  {
   "cell_type": "markdown",
   "metadata": {},
   "source": [
    "# Set new champion model"
   ]
  },
  {
   "cell_type": "code",
   "execution_count": 1,
   "metadata": {},
   "outputs": [
    {
     "name": "stdout",
     "output_type": "stream",
     "text": [
      "Promoting version 1 (mse=623940.4181705144) to Production as 'champion-model'.\n"
     ]
    },
    {
     "name": "stderr",
     "output_type": "stream",
     "text": [
      "/var/folders/74/sn92zv5x10396pnw3vtmq68m0000gn/T/ipykernel_20668/4256598909.py:68: FutureWarning: ``mlflow.tracking.client.MlflowClient.transition_model_version_stage`` is deprecated since 2.9.0. Model registry stages will be removed in a future major release. To learn more about the deprecation of model registry stages, see our migration guide here: https://mlflow.org/docs/latest/model-registry.html#migrating-from-stages\n",
      "  client.transition_model_version_stage(\n"
     ]
    },
    {
     "name": "stdout",
     "output_type": "stream",
     "text": [
      "✔️ Model version 1 promoted to 'Production' in 'champion-model'.\n"
     ]
    }
   ],
   "source": [
    "import mlflow\n",
    "from mlflow.tracking import MlflowClient\n",
    "\n",
    "EXPERIMENT_NAME = \"apartment-price-prediction\"\n",
    "CANDIDATE_MODEL_NAME = \"candidate-model\"\n",
    "CHAMPION_MODEL_NAME = \"champion-model\"\n",
    "BEST_METRIC = \"mse\"  # Change if needed\n",
    "\n",
    "mlflow.set_tracking_uri(\"http://135.181.85.42:5000\")\n",
    "\n",
    "client = MlflowClient()\n",
    "\n",
    "# 1. Get experiment\n",
    "experiment = client.get_experiment_by_name(EXPERIMENT_NAME)\n",
    "if experiment is None:\n",
    "    raise ValueError(f\"Experiment '{EXPERIMENT_NAME}' not found.\")\n",
    "\n",
    "# 2. Get best run based on lowest MSE\n",
    "runs = client.search_runs(\n",
    "    experiment_ids=[experiment.experiment_id],\n",
    "    filter_string=\"attributes.status = 'FINISHED'\",\n",
    "    order_by=[f\"metrics.{BEST_METRIC} ASC\"],\n",
    "    max_results=1\n",
    ")\n",
    "\n",
    "if not runs:\n",
    "    raise ValueError(\"No finished runs found with the required metric.\")\n",
    "\n",
    "best_run = runs[0]\n",
    "best_run_id = best_run.info.run_id\n",
    "best_metric_value = best_run.data.metrics[BEST_METRIC]\n",
    "\n",
    "# 3. Find the registered model version corresponding to that run (in \"candidate-model\")\n",
    "candidate_versions = client.search_model_versions(\n",
    "    f\"name='{CANDIDATE_MODEL_NAME}'\")\n",
    "best_version = None\n",
    "\n",
    "for version in candidate_versions:\n",
    "    if version.run_id == best_run_id:\n",
    "        best_version = version\n",
    "        break\n",
    "\n",
    "if not best_version:\n",
    "    raise ValueError(\n",
    "        f\"No registered version of '{CANDIDATE_MODEL_NAME}' found for run {best_run_id}\")\n",
    "\n",
    "print(\n",
    "    f\"Promoting version {best_version.version} (mse={best_metric_value}) to Production as '{CHAMPION_MODEL_NAME}'.\")\n",
    "\n",
    "# 4. Register or update model under \"championModel\"\n",
    "# First: check if this version is already registered under \"championModel\"\n",
    "existing_champion_versions = client.search_model_versions(\n",
    "    f\"name='{CHAMPION_MODEL_NAME}'\")\n",
    "existing_version_with_run = next(\n",
    "    (v for v in existing_champion_versions if v.run_id == best_run_id), None)\n",
    "\n",
    "if not existing_version_with_run:\n",
    "    # Register new version\n",
    "    result = mlflow.register_model(\n",
    "        model_uri=f\"runs:/{best_run_id}/model\",\n",
    "        name=CHAMPION_MODEL_NAME,\n",
    "    )\n",
    "    champion_version = result.version\n",
    "else:\n",
    "    champion_version = existing_version_with_run.version\n",
    "\n",
    "# 5. Promote to production\n",
    "client.transition_model_version_stage(\n",
    "    name=CHAMPION_MODEL_NAME,\n",
    "    version=champion_version,\n",
    "    stage=\"Production\",\n",
    "    archive_existing_versions=True,\n",
    ")\n",
    "\n",
    "print(\n",
    "    f\"✔️ Model version {champion_version} promoted to 'Production' in '{CHAMPION_MODEL_NAME}'.\")"
   ]
  }
 ],
 "metadata": {
  "kernelspec": {
   "display_name": "venv",
   "language": "python",
   "name": "python3"
  },
  "language_info": {
   "codemirror_mode": {
    "name": "ipython",
    "version": 3
   },
   "file_extension": ".py",
   "mimetype": "text/x-python",
   "name": "python",
   "nbconvert_exporter": "python",
   "pygments_lexer": "ipython3",
   "version": "3.13.3"
  }
 },
 "nbformat": 4,
 "nbformat_minor": 2
}
