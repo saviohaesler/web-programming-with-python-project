{
 "cells": [
  {
   "cell_type": "markdown",
   "id": "58281001",
   "metadata": {},
   "source": [
    "# Fetch training data"
   ]
  },
  {
   "cell_type": "code",
   "execution_count": 12,
   "id": "b73cc3b6",
   "metadata": {},
   "outputs": [
    {
     "name": "stdout",
     "output_type": "stream",
     "text": [
      "Count entries: 2870\n",
      "Columns: dict_keys(['id', 'plz', 'price', 'rooms', 'space'])\n"
     ]
    }
   ],
   "source": [
    "import requests\n",
    "import csv\n",
    "\n",
    "url = \"http://hasls6.bfh-webdev.ch:3000/get_apartments\"\n",
    "\n",
    "response = requests.get(url)\n",
    "if response.status_code != 200:\n",
    "    raise Exception(f\"Failed to send data to API: {response.text}\")\n",
    "\n",
    "print(f\"Count entries: {len(response.json())}\")\n",
    "print(f\"Columns: {response.json()[0].keys()}\")\n",
    "\n",
    "# save as csv\n",
    "with open(\"apartments.csv\", \"w\") as f:\n",
    "    writer = csv.DictWriter(f, fieldnames=response.json()[0].keys())\n",
    "    writer.writeheader()\n",
    "    for apartment in response.json():\n",
    "        writer.writerow(apartment)"
   ]
  },
  {
   "cell_type": "markdown",
   "id": "00fb0cb3",
   "metadata": {},
   "source": [
    "# Train model"
   ]
  },
  {
   "cell_type": "code",
   "execution_count": 13,
   "id": "3a430710",
   "metadata": {},
   "outputs": [],
   "source": [
    "import pandas as pd\n",
    "from sklearn.linear_model import LinearRegression\n",
    "from sklearn.model_selection import train_test_split\n",
    "from sklearn.preprocessing import OneHotEncoder\n",
    "from sklearn.compose import ColumnTransformer\n",
    "from sklearn.pipeline import Pipeline\n",
    "\n",
    "df = pd.read_csv(\"apartments.csv\")\n",
    "\n",
    "# split data\n",
    "X = df[[\"rooms\", \"space\", \"plz\"]]\n",
    "y = df[\"price\"]\n",
    "X_train, X_test, y_train, y_test = train_test_split(\n",
    "    X, y, test_size=0.35, random_state=42)\n",
    "\n",
    "# create pipeline\n",
    "preprocessor = ColumnTransformer(\n",
    "    transformers=[\n",
    "        (\"onehot\", OneHotEncoder(\n",
    "            handle_unknown='ignore'), [\"plz\"]),\n",
    "        (\"passthrough\", \"passthrough\", [\"rooms\", \"space\"])\n",
    "    ]\n",
    ")\n",
    "\n",
    "model = Pipeline([\n",
    "    (\"preprocessor\", preprocessor),\n",
    "    (\"regressor\", LinearRegression())\n",
    "])\n",
    "\n",
    "# train model\n",
    "model.fit(X_train, y_train)\n",
    "\n",
    "# evaluate model\n",
    "y_pred = model.predict(X_test)"
   ]
  },
  {
   "cell_type": "markdown",
   "id": "555c5b38",
   "metadata": {},
   "source": [
    "# Evaluate model"
   ]
  },
  {
   "cell_type": "code",
   "execution_count": 14,
   "id": "b4e422e9",
   "metadata": {},
   "outputs": [
    {
     "name": "stdout",
     "output_type": "stream",
     "text": [
      "MSE: 748327.04\n",
      "RMSE: 865.06\n",
      "MAE: 517.55\n",
      "R² Score: 0.78\n"
     ]
    }
   ],
   "source": [
    "import numpy as np\n",
    "from sklearn.metrics import mean_squared_error, mean_absolute_error, r2_score\n",
    "# Mean Squared Error (MSE)\n",
    "\n",
    "mse = mean_squared_error(y_test, y_pred)\n",
    "rmse = np.sqrt(mse)  # Root Mean Squared Error (RMSE)\n",
    "mae = mean_absolute_error(y_test, y_pred)\n",
    "r2 = r2_score(y_test, y_pred)\n",
    "\n",
    "print(f\"MSE: {mse:.2f}\")\n",
    "print(f\"RMSE: {rmse:.2f}\")\n",
    "print(f\"MAE: {mae:.2f}\")\n",
    "print(f\"R² Score: {r2:.2f}\")"
   ]
  },
  {
   "cell_type": "markdown",
   "id": "878d6f4f",
   "metadata": {},
   "source": [
    "## Manual prediction"
   ]
  },
  {
   "cell_type": "code",
   "execution_count": 15,
   "id": "0dccc284",
   "metadata": {},
   "outputs": [
    {
     "name": "stdout",
     "output_type": "stream",
     "text": [
      "[3167.39694649]\n"
     ]
    }
   ],
   "source": [
    "print(model.predict(pd.DataFrame(\n",
    "    [{\"rooms\": 3.5, \"space\": 78, \"plz\": 8057}])))"
   ]
  },
  {
   "cell_type": "markdown",
   "id": "53a01608",
   "metadata": {},
   "source": [
    "# Deploy model"
   ]
  },
  {
   "cell_type": "markdown",
   "id": "98f30a21",
   "metadata": {},
   "source": [
    "## Deploy model to MLFlow tracking server"
   ]
  },
  {
   "cell_type": "code",
   "execution_count": 16,
   "id": "e57f0b27",
   "metadata": {},
   "outputs": [
    {
     "name": "stderr",
     "output_type": "stream",
     "text": [
      "/Users/mandrecks/BFH/sem4/WebDev/web-programming-with-python-project/venv/lib/python3.13/site-packages/mlflow/types/utils.py:452: UserWarning: Hint: Inferred schema contains integer column(s). Integer columns in Python cannot represent missing values. If your input data contains missing values at inference time, it will be encoded as floats and will cause a schema enforcement error. The best way to avoid this problem is to infer the model schema based on a realistic data sample (training dataset) that includes missing values. Alternatively, you can declare integer columns as doubles (float64) whenever these columns may have missing values. See `Handling Integers With Missing Values <https://www.mlflow.org/docs/latest/models.html#handling-integers-with-missing-values>`_ for more details.\n",
      "  warnings.warn(\n",
      "Registered model 'candidate-model' already exists. Creating a new version of this model...\n",
      "2025/05/19 10:05:11 INFO mlflow.store.model_registry.abstract_store: Waiting up to 300 seconds for model version to finish creation. Model name: candidate-model, version 2\n",
      "Created version '2' of model 'candidate-model'.\n"
     ]
    },
    {
     "name": "stdout",
     "output_type": "stream",
     "text": [
      "🏃 View run sincere-pug-2 at: http://135.181.85.42:5000/#/experiments/2/runs/a4d3a22069304ed784126c856b367faf\n",
      "🧪 View experiment at: http://135.181.85.42:5000/#/experiments/2\n"
     ]
    }
   ],
   "source": [
    "import mlflow\n",
    "import mlflow.sklearn\n",
    "import numpy as np\n",
    "from sklearn.metrics import mean_squared_error, mean_absolute_error, r2_score\n",
    "from mlflow.models.signature import infer_signature\n",
    "\n",
    "# Set the tracking URI to point to your MLflow server\n",
    "mlflow.set_tracking_uri(\"http://135.181.85.42:5000\")  # Replace with your actual server address\n",
    "\n",
    "# Optional: give your experiment a name (creates if doesn't exist)\n",
    "mlflow.set_experiment(\"apartment-price-prediction\")\n",
    "\n",
    "# Start an MLflow run\n",
    "with mlflow.start_run():\n",
    "\n",
    "    # Predict and calculate metrics\n",
    "    y_pred = model.predict(X_test)\n",
    "    mse = mean_squared_error(y_test, y_pred)\n",
    "    rmse = np.sqrt(mse)\n",
    "    mae = mean_absolute_error(y_test, y_pred)\n",
    "    r2 = r2_score(y_test, y_pred)\n",
    "\n",
    "    # Log metrics\n",
    "    mlflow.log_metric(\"mse\", mse)\n",
    "    mlflow.log_metric(\"rmse\", rmse)\n",
    "    mlflow.log_metric(\"mae\", mae)\n",
    "    mlflow.log_metric(\"r2\", r2)\n",
    "\n",
    "    # Infer model input/output signature\n",
    "    signature = infer_signature(X_test, y_pred)\n",
    "\n",
    "    mlflow.log_artifact(\"./apartments.csv\")\n",
    "\n",
    "    # Log the model\n",
    "    mlflow.sklearn.log_model(\n",
    "        sk_model=model,\n",
    "        artifact_path=\"predict_model\",\n",
    "        signature=signature,\n",
    "        input_example=X_test,\n",
    "        registered_model_name=\"candidate-model\",\n",
    "    )"
   ]
  },
  {
   "cell_type": "markdown",
   "id": "ae9014bd",
   "metadata": {},
   "source": [
    "## Deploy locally"
   ]
  },
  {
   "cell_type": "code",
   "execution_count": null,
   "id": "6841233d",
   "metadata": {},
   "outputs": [],
   "source": [
    "import mlflow\n",
    "import mlflow.sklearn\n",
    "import numpy as np\n",
    "from sklearn.metrics import mean_squared_error, mean_absolute_error, r2_score\n",
    "from mlflow.models.signature import infer_signature\n",
    "\n",
    "# Set the tracking URI to point to your MLflow server\n",
    "mlflow.set_tracking_uri(\"http://127.0.0.1:8080\")  # Replace with your actual server address\n",
    "\n",
    "# Optional: give your experiment a name (creates if doesn't exist)\n",
    "mlflow.set_experiment(\"Predict Apartments\")\n",
    "\n",
    "# Start an MLflow run\n",
    "with mlflow.start_run():\n",
    "\n",
    "    # Predict and calculate metrics\n",
    "    y_pred = model.predict(X_test)\n",
    "    mse = mean_squared_error(y_test, y_pred)\n",
    "    rmse = np.sqrt(mse)\n",
    "    mae = mean_absolute_error(y_test, y_pred)\n",
    "    r2 = r2_score(y_test, y_pred)\n",
    "\n",
    "    # Log metrics\n",
    "    mlflow.log_metric(\"mse\", mse)\n",
    "    mlflow.log_metric(\"rmse\", rmse)\n",
    "    mlflow.log_metric(\"mae\", mae)\n",
    "    mlflow.log_metric(\"r2\", r2)\n",
    "\n",
    "    # Infer model input/output signature\n",
    "    signature = infer_signature(X_test, y_pred)\n",
    "\n",
    "    # Log the model\n",
    "    mlflow.sklearn.log_model(\n",
    "        sk_model=model,\n",
    "        artifact_path=\"predict_model\",\n",
    "        signature=signature,\n",
    "        input_example=X_test,\n",
    "        registered_model_name=\"tracking-quickstart\",  # Optional\n",
    "    )"
   ]
  }
 ],
 "metadata": {
  "kernelspec": {
   "display_name": "venv",
   "language": "python",
   "name": "python3"
  },
  "language_info": {
   "codemirror_mode": {
    "name": "ipython",
    "version": 3
   },
   "file_extension": ".py",
   "mimetype": "text/x-python",
   "name": "python",
   "nbconvert_exporter": "python",
   "pygments_lexer": "ipython3",
   "version": "3.13.3"
  }
 },
 "nbformat": 4,
 "nbformat_minor": 5
}
